{
 "cells": [
  {
   "cell_type": "markdown",
   "metadata": {},
   "source": [
    "# SIMULACIÓN | PROYECTO UNIDAD 1\n",
    "\n",
    "\n"
   ]
  },
  {
   "cell_type": "markdown",
   "metadata": {},
   "source": [
    "## INSTRUCCIONES\n",
    "\n",
    "- El objetivo del proyecto es poner en práctica los contenidos aprendidos en la primera unidad de Probabilidades, con el uso de un set de datos real extraidos de un medio libre. En algunos casos deberá investigar ciertos contenidos para apoyar sus conclusiones.  \n",
    "\n",
    "\n",
    "- Se presentan las actividades a desarrollar, cada una de ella contiene un set de instrucciones, preguntas y su puntaje asociado. Las preguntas deben ser respondidas en celdas de texto (no se considera respuesta si está en un comentario entre las líneas de código)\n",
    "\n",
    "\n",
    "- Al finalizar presente las conclusiones de su trabajo. \n",
    "\n",
    "\n",
    "- Debe subir a siveduc en la tarea Proyecto1, su notebook y el archivo de datos utilizado.\n",
    "\n",
    "\n",
    "- El título del notebook debe ser: proyecto1_Apellido1_Apellido2_Apellido3\n",
    "\n",
    "\n",
    "- Fecha límite de entrega: lunes 7 de noviembre 13 horas\n",
    "\n",
    "\n",
    "- Este trabajo pondera un 25% del total del curso "
   ]
  },
  {
   "cell_type": "markdown",
   "metadata": {},
   "source": [
    "**Integrantes:** \n",
    "* Gastón Bustamante\n",
    "* Sebastián Lara\n",
    "* Felipe Vidal"
   ]
  },
  {
   "cell_type": "code",
   "execution_count": 1,
   "metadata": {},
   "outputs": [],
   "source": [
    "# Pandas and numpy for data manipulation\n",
    "import pandas as pd\n",
    "import numpy as np\n",
    "import statistics\n",
    "import scipy.stats \n",
    "from IPython.display import Image\n",
    "\n",
    "# Matplotlib and seaborn for plotting\n",
    "import matplotlib.pyplot as plt\n",
    "import matplotlib\n",
    "%matplotlib inline\n",
    "\n",
    "matplotlib.rcParams['font.size'] = 10\n",
    "matplotlib.rcParams['figure.dpi'] = 100\n",
    "\n",
    "import seaborn as sns\n",
    "\n",
    "from IPython.core.pylabtools import figsize"
   ]
  },
  {
   "cell_type": "code",
   "execution_count": 2,
   "metadata": {},
   "outputs": [],
   "source": [
    "import random"
   ]
  },
  {
   "cell_type": "markdown",
   "metadata": {},
   "source": [
    "## Parte I : Propiedades de las Probabilidades\n",
    "\n"
   ]
  },
  {
   "cell_type": "markdown",
   "metadata": {},
   "source": [
    "A continuación se presenta la simulación de una población, representada por el dinero que dispone cada persona y sus transacciones económicas. \n",
    "\n",
    "1. (1 punto) Analice la simulación, realice las siguientes modificaciones en el proceso e interprete sus resultados:\n",
    "\n",
    "    (a) Modifique la distribución inicial de dinero. ¿Cómo se comporta el coeficiente de Gini y la distribución de la riqueza?\n",
    "    \n",
    "    (b) Modifique la función de transacción para aumentar o disminuir el índice de Gini. \n",
    "    \n",
    "    (c) Comente la simulación propuesta ¿Qué otros factores inciden en los resultados de la simulación?\n",
    "    \n",
    "    \n",
    "2. (1 punto) Defina eventos de interés $A$, $B$ y $C$ y calcule las siguientes probabilidades mediante la simulación propuesta:\n",
    "\n",
    "    (a) $P(A), P(B) y P(C)$ \n",
    "    \n",
    "    (b) $P(A \\cup B) $ \n",
    "\n",
    "    (c) $P(A \\mid C)$\n",
    "    \n",
    "Ejemplos de eventos de interés (defina sus propios eventos):\n",
    "- La mediana de la población es mayor o igual que $x$ pesos.\n",
    "- El percentil 10% es mayor o igual que $y$ pesos\n",
    "- El coeficiente de gini de la población es menor que $0.3$\n",
    "\n",
    "\n",
    "#### Referencia:\n",
    "https://nbviewer.jupyter.org/url/norvig.com/ipython/Economics.ipynb"
   ]
  },
  {
   "cell_type": "markdown",
   "metadata": {},
   "source": [
    "**gini**: Definición de la métrica de equidad de gini \n",
    "\n",
    "**transaccion**: accion de intercambio de dinero, puede ser justa o injusta\n",
    "\n",
    "**interaccion**: eleccion de los actores que realizan la transacción\n",
    "\n",
    "**simula**: funcion de simulacion, dinerop: lista que representa la cantidad de dinero actual que tiene cada persona, T: cantidad de iteraciones "
   ]
  },
  {
   "cell_type": "code",
   "execution_count": 3,
   "metadata": {},
   "outputs": [],
   "source": [
    "def gini(y):\n",
    "    \"Calcula el coeficiente de Gini: una medida de la equidad/inequidad en la\"\n",
    "    \"población y (representada por una lista que contabiliza el dinero actual de cada persona.\"\n",
    "    y = sorted(y)\n",
    "    n = len(y)\n",
    "    numer = 2 * sum((i+1) * y[i] for i in range(n))\n",
    "    denom = n * sum(y)\n",
    "    return (numer / denom) - (n + 1) / n\n",
    "\n",
    "def transaccion(A, B):\n",
    "    \"Reune el dinero de A y B en un pozo y luego lo distribuye aleatoriamente entre los dos actores.\"\n",
    "    pozo = A + B\n",
    "    parte1 = random.uniform(0,pozo)\n",
    "    return parte1, pozo - parte1\n",
    "\n",
    "def transaccion_injusta(A, B): return random.choice(([A + B, 0], [0, A + B]))\n",
    "\n",
    "def interaccion(N): return random.sample(range(N), 2)\n",
    "\n",
    "def percent(pct, items):\n",
    "    \"The item that is pct percent through the sorted list of items.\"\n",
    "    return items[min(len(items)-1, len(items) * pct // 100)]\n",
    "\n"
   ]
  },
  {
   "cell_type": "markdown",
   "metadata": {},
   "source": [
    "**SIMULACIÓN: modifíquela para realizar sus cálculos **"
   ]
  },
  {
   "cell_type": "code",
   "execution_count": 4,
   "metadata": {},
   "outputs": [],
   "source": [
    "\n",
    "def simula(dinerop, T):\n",
    "    \"Ejecuta simulacion de dinerop para T transacciones; devuelve dinerop en cada paso.\" \n",
    "    dinerop = dinerop.copy()\n",
    "    yield dinerop\n",
    "    for t in range(1, T + 1):\n",
    "        i, j = interaccion(len(dinerop))\n",
    "        dinerop[i], dinerop[j] = transaccion(dinerop[i], dinerop[j]) \n",
    "        yield dinerop"
   ]
  },
  {
   "cell_type": "markdown",
   "metadata": {},
   "source": [
    "*** Ejemplo de la simulación con una poblacion, donde los cuatro actores inician con 100$ y 8 iteraciones ***"
   ]
  },
  {
   "cell_type": "code",
   "execution_count": 5,
   "metadata": {},
   "outputs": [
    {
     "name": "stdout",
     "output_type": "stream",
     "text": [
      "[100, 100, 100, 100]\n",
      "[114.71405802726665, 100, 85.28594197273335, 100]\n",
      "[114.71405802726665, 33.49441951274907, 151.7915224599843, 100]\n",
      "[177.1323527955728, 33.49441951274907, 89.37322769167812, 100]\n",
      "[177.1323527955728, 132.69447692828945, 89.37322769167812, 0.7999425844596146]\n",
      "[251.6901065710341, 58.13672315282815, 89.37322769167812, 0.7999425844596146]\n",
      "[251.6901065710341, 29.378155425827696, 89.37322769167812, 29.558510311460065]\n",
      "[51.75097002756502, 229.31729196929678, 89.37322769167812, 29.558510311460065]\n",
      "[67.91434968662209, 229.31729196929678, 89.37322769167812, 13.395130652403003]\n"
     ]
    }
   ],
   "source": [
    "#Ejemplo simple de simular una población de 4 actores, con $100 cada uno inicialmente y 8 iteraciones:\n",
    "for pop in simula([100] * 4, 8):\n",
    "    print(pop)"
   ]
  },
  {
   "cell_type": "markdown",
   "metadata": {},
   "source": [
    "*** Puede tomar como ejemplo los siguientes gráficos y estadísticas presentadas *** "
   ]
  },
  {
   "cell_type": "code",
   "execution_count": 6,
   "metadata": {},
   "outputs": [],
   "source": [
    "import statistics\n",
    "\n",
    "def percent(pct, items):\n",
    "    \"Devuelve el item que corresponde al porcentaje pct (acumulado) en la lista ordenada de items.\"\n",
    "    return items[min(len(items)-1, len(items) * pct // 100)]\n",
    "\n",
    "def show(dinerop, k=40, percentiles=(1, 10, 50, 90, 99), **kwargs):\n",
    "    \"Ejecuta simulación en k*N pasos, imprimiendo estadísticos y desplegando un histograma. \"\n",
    "    N = len(dinerop)\n",
    "    inicio = list(dinerop)\n",
    "    resultado = [(t, sorted(pop)) # Ordena resultados para poder calcular percentiles\n",
    "               for (t, pop) in enumerate(simula(dinerop, k * N, **kwargs))\n",
    "               if t % (N / 10) == 0]\n",
    "    times = [t for (t, pop) in resultado]\n",
    "    # Printout:\n",
    "    print('   t    Gini stdev' + (' {:3d}%' * len(percentiles)).format(*percentiles))\n",
    "    print('------- ---- -----' + ' ----' * len(percentiles))\n",
    "    fmt = '{:7,d} {:.2f} {:5.1f}' + ' {:4.0f}' * len(percentiles)\n",
    "    for (t, pop) in resultado:\n",
    "        if t % (4 * N) == 0:\n",
    "            data = [percent(pct, pop) for pct in percentiles]\n",
    "            print(fmt.format(t, gini(pop), statistics.stdev(pop), *data))\n",
    "    # Plot:\n",
    "    plt.xlabel('riqueza'); plt.ylabel('tiempo'); plt.grid(True)\n",
    "    for pct in percentiles:\n",
    "        line = [percent(pct, pop) for (t, pop) in resultado]\n",
    "        plt.plot(line, times)\n",
    "    plt.show()\n",
    "    # Histogram:\n",
    "    R = (min(pop+inicio), max(pop+inicio))\n",
    "    plt.hist(inicio, label='inicio',range=R, alpha=0.5)\n",
    "    plt.hist(pop,label='final', range=R,alpha=0.5)\n",
    "    plt.legend(loc='upper right')\n",
    "    plt.show()           \n"
   ]
  },
  {
   "cell_type": "code",
   "execution_count": 7,
   "metadata": {
    "scrolled": true
   },
   "outputs": [
    {
     "name": "stdout",
     "output_type": "stream",
     "text": [
      "   t    Gini stdev   1%  10%  50%  90%  99%\n",
      "------- ---- ----- ---- ---- ---- ---- ----\n",
      "      0 0.11  19.7   54   74  100  125  145\n",
      " 20,000 0.49  97.2    1   11   70  230  463\n",
      " 40,000 0.50 101.1    1   11   69  232  458\n",
      " 60,000 0.50  99.9    1   10   70  231  450\n",
      " 80,000 0.50  99.1    1   10   69  229  457\n",
      "100,000 0.50  99.9    1   10   68  234  456\n",
      "120,000 0.51 102.2    1   10   67  232  480\n",
      "140,000 0.50 100.3    1   10   69  234  454\n",
      "160,000 0.50 100.6    1   10   69  229  482\n",
      "180,000 0.50  98.9    1   11   70  229  449\n",
      "200,000 0.50  99.9    1   11   68  233  459\n"
     ]
    },
    {
     "data": {
      "image/png": "[encoded data removed]",
      "text/plain": [
       "<Figure size 600x400 with 1 Axes>"
      ]
     },
     "metadata": {
      "needs_background": "light"
     },
     "output_type": "display_data"
    },
    {
     "data": {
      "image/png": "[encoded data removed]",
      "text/plain": [
       "<Figure size 600x400 with 1 Axes>"
      ]
     },
     "metadata": {
      "needs_background": "light"
     },
     "output_type": "display_data"
    }
   ],
   "source": [
    "N  = 5000 # Tamaño de la población\n",
    "MU = 100. # Dinero medio en la población\n",
    "\n",
    "dinerop = [random.gauss(mu=MU, sigma=MU/5) for actor in range(N)]\n",
    "\n",
    "show(dinerop)"
   ]
  },
  {
   "cell_type": "code",
   "execution_count": 9,
   "metadata": {},
   "outputs": [],
   "source": [
    "def show2(dinerop, k=80, percentiles=(1, 10, 50, 90, 99), **kwargs):\n",
    "    \"Ejecuta simulación en k*N pasos, imprimiendo estadísticos y desplegando un histograma. \"\n",
    "    sd = []\n",
    "    p10 = []\n",
    "    p90 = []\n",
    "    g = []\n",
    "    N = len(dinerop)\n",
    "    inicio = list(dinerop)\n",
    "    resultado = [(t, sorted(pop)) # Ordena resultados para poder calcular percentiles\n",
    "               for (t, pop) in enumerate(simula(dinerop, k * N, **kwargs))\n",
    "               if t % (N / 10) == 0]\n",
    "    times = [t for (t, pop) in resultado]\n",
    "    # Printout:\n",
    "    print('   t    Gini stdev' + (' {:3d}%' * len(percentiles)).format(*percentiles))\n",
    "    print('------- ---- -----' + ' ----' * len(percentiles))\n",
    "    fmt = '{:7,d} {:.2f} {:5.1f}' + ' {:4.0f}' * len(percentiles)\n",
    "    for (t, pop) in resultado:\n",
    "        if t % (4 * N) == 0:\n",
    "            data = [percent(pct, pop) for pct in percentiles]\n",
    "            p10.append(percent(10, pop))\n",
    "            p90.append(percent(90, pop))\n",
    "            g.append(gini(pop))\n",
    "            sd.append(statistics.stdev(pop))#lista con la desviación estándar por iteración\n",
    "            print(fmt.format(t, gini(pop), statistics.stdev(pop), *data))\n",
    "    # Plot:\n",
    "    plt.xlabel('riqueza'); plt.ylabel('tiempo'); plt.grid(True)\n",
    "    for pct in percentiles:\n",
    "        line = [percent(pct, pop) for (t, pop) in resultado]\n",
    "        plt.plot(line, times)\n",
    "    plt.show()\n",
    "    # Histogram:\n",
    "    R = (min(pop+inicio), max(pop+inicio))\n",
    "    plt.hist(inicio, label='inicio',range=R, alpha=0.5)\n",
    "    plt.hist(pop,label='final', range=R,alpha=0.5)\n",
    "    plt.legend(loc='upper right')\n",
    "    plt.show()           \n",
    "    ##returns\n",
    "    return g, sd, p10, p90"
   ]
  },
  {
   "cell_type": "markdown",
   "metadata": {},
   "source": [
    "Para la simulación usaremos una cantidad de dinero 800 y una población de tamaño 10000, con una transacción \"justa\"\n",
    "\n",
    "Definicion de eventos\n",
    "\n",
    "A: La desviación estándar de la población es mayor o igual que 800 pesos.\n",
    "\n",
    "B: El percentil 10% es menor o igual que 80 pesos\n",
    "\n",
    "C: El percentil 90% es mayor o igual que 720 pesos"
   ]
  },
  {
   "cell_type": "code",
   "execution_count": 17,
   "metadata": {},
   "outputs": [
    {
     "name": "stdout",
     "output_type": "stream",
     "text": [
      "   t    Gini stdev   1%  10%  50%  90%  99%\n",
      "------- ---- ----- ---- ---- ---- ---- ----\n",
      "      0 0.11 159.5  433  598  801 1007 1173\n",
      " 80,000 0.49 767.8    9   91  576 1834 3549\n",
      "160,000 0.50 793.6    8   84  556 1852 3591\n",
      "240,000 0.50 805.4    7   83  554 1842 3672\n",
      "320,000 0.50 808.1    8   83  558 1856 3744\n",
      "400,000 0.50 818.1    8   85  551 1844 3831\n",
      "480,000 0.50 796.2    8   88  550 1847 3666\n",
      "560,000 0.50 801.3   10   83  555 1854 3765\n",
      "640,000 0.50 800.7    9   87  556 1835 3743\n",
      "720,000 0.50 809.3    8   85  555 1834 3711\n",
      "800,000 0.50 804.9    8   84  551 1866 3627\n",
      "880,000 0.50 801.4    8   83  558 1852 3686\n",
      "960,000 0.50 802.3    7   85  552 1847 3644\n",
      "1,040,000 0.50 797.6    9   84  559 1850 3684\n",
      "1,120,000 0.50 799.1    7   85  553 1862 3653\n",
      "1,200,000 0.50 791.6    9   89  558 1836 3624\n",
      "1,280,000 0.50 799.1    9   83  555 1836 3698\n",
      "1,360,000 0.50 809.9    8   83  546 1864 3760\n",
      "1,440,000 0.50 797.1    9   86  555 1860 3614\n",
      "1,520,000 0.50 807.9    7   80  552 1860 3713\n",
      "1,600,000 0.50 803.1    9   86  553 1848 3704\n"
     ]
    },
    {
     "data": {
      "image/png": "[encoded data removed]",
      "text/plain": [
       "<Figure size 600x400 with 1 Axes>"
      ]
     },
     "metadata": {
      "needs_background": "light"
     },
     "output_type": "display_data"
    },
    {
     "data": {
      "image/png": "[encoded data removed]",
      "text/plain": [
       "<Figure size 600x400 with 1 Axes>"
      ]
     },
     "metadata": {
      "needs_background": "light"
     },
     "output_type": "display_data"
    }
   ],
   "source": [
    "N  = 20000 # Tamaño de la población\n",
    "MU = 800. # Dinero medio en la población\n",
    "\n",
    "random.seed(14)\n",
    "dinerop = [random.gauss(mu=MU, sigma=MU/5) for actor in range(N)]\n",
    "\n",
    "g, sd, p10, p90 = show2(dinerop)"
   ]
  },
  {
   "cell_type": "markdown",
   "metadata": {},
   "source": [
    "##### 1.a) P(A) , P(B) , P(C)"
   ]
  },
  {
   "cell_type": "code",
   "execution_count": 11,
   "metadata": {},
   "outputs": [
    {
     "name": "stdout",
     "output_type": "stream",
     "text": [
      "sd:  [159.4640070273216, 767.7525349424243, 793.6307722551397, 805.399875284913, 808.0945797754052, 818.1402420722088, 796.1904084936699, 801.3031240883321, 800.7388311160626, 809.2990695369274, 804.9248548305816, 801.3516668004029, 802.3257102750915, 797.6462891004173, 799.1246015849995, 791.6129590319399, 799.0589335990206, 809.8846652411369, 797.1038172874656, 807.8859798963464, 803.1484551739001]\n",
      "p10:  [597.8150235691487, 90.95192121829191, 84.19360711563195, 82.78469859818318, 82.96370808105253, 84.5758978062496, 87.65180485070549, 83.05793483800468, 86.77727762737686, 84.91296571913142, 83.66290178512554, 83.4583602640989, 85.43243865290515, 83.80204291805923, 84.7393472798399, 88.64550915705169, 83.17698373755212, 82.79957513663493, 86.31216339347827, 80.31660005668728, 86.0471661951823]\n",
      "p90:  [1006.9230966238529, 1833.8437386418536, 1852.426821402616, 1842.1241911630702, 1855.6225743784394, 1843.934467771169, 1847.4400506677753, 1853.5429242602859, 1835.3735633238978, 1833.8752575123726, 1865.9956198944265, 1852.0698420653039, 1846.646975510794, 1850.214173618272, 1862.4368775779276, 1836.3899140069025, 1835.8863735875566, 1864.0569418620048, 1860.3737694755891, 1860.2978247891126, 1848.475952231886]\n"
     ]
    }
   ],
   "source": [
    "print('sd: ', sd)\n",
    "print('p10: ', p10)\n",
    "print('p90: ', p90)"
   ]
  },
  {
   "cell_type": "code",
   "execution_count": 12,
   "metadata": {},
   "outputs": [
    {
     "name": "stdout",
     "output_type": "stream",
     "text": [
      "La probabilidad de que la desviación estándar sea mayor o igual a 800 pesos es: 0.5714285714285714\n",
      "La probabilidad de que el percentil 10% sea menor o igual a 80 pesos es: 0.0\n",
      "La probabilidad de que el percentil 90% sea mayor o igual a 720 pesos es: 1.0\n"
     ]
    }
   ],
   "source": [
    "a = b = c = 0\n",
    "for i in range(len(sd)):\n",
    "    if (sd[i] >= 800): a+=1\n",
    "    if (p10[i] <= 80): b+=1\n",
    "    if (p90[i] >= 720): c+=1\n",
    "        \n",
    "\n",
    "\n",
    "pA = a/len(sd)\n",
    "pB = b/len(p10)\n",
    "pC = c/len(p90)\n",
    "\n",
    "print('La probabilidad de que la desviación estándar sea mayor o igual a 800 pesos es: {}'.format(pA))\n",
    "print('La probabilidad de que el percentil 10% sea menor o igual a 80 pesos es: {}'.format(pB))\n",
    "print('La probabilidad de que el percentil 90% sea mayor o igual a 720 pesos es: {}'.format(pC))"
   ]
  },
  {
   "cell_type": "markdown",
   "metadata": {},
   "source": [
    "Por medio de esta simulación tenemos que: \n",
    "\n",
    "$$ P(A) \\approx 0.57 $$\n",
    "\n",
    "$$P(B) = 0.0$$\n",
    "\n",
    "$$P(C) \\approx 1.0$$"
   ]
  },
  {
   "cell_type": "markdown",
   "metadata": {},
   "source": [
    "##### 1.b) $$ P(A \\cup B)$$\n",
    "\n",
    "Sabemos que: \n",
    "\n",
    "$$ P(A \\cup B) = P(A) + P(B) - (P(A) * P(B))$$"
   ]
  },
  {
   "cell_type": "code",
   "execution_count": 13,
   "metadata": {},
   "outputs": [
    {
     "name": "stdout",
     "output_type": "stream",
     "text": [
      "La probabilidad de que la desviación estándar sea mayor o igual a 800 pesos \n",
      " o el percentil 10% sea menor o igual a 20 es: 0.5714285714285714\n"
     ]
    }
   ],
   "source": [
    "AuB = pA + pB - (pA * pB)\n",
    "print('La probabilidad de que la desviación estándar sea mayor o igual a 800 pesos \\n o el percentil 10% sea menor o igual a 20 es: {}'.format(AuB))"
   ]
  },
  {
   "cell_type": "markdown",
   "metadata": {},
   "source": [
    "##### 1.c) $$P(A \\cap B) $$\n",
    "\n",
    "Sabemos que:\n",
    "\n",
    "$$ P(A \\mid C) = \\frac{P(A \\cap C)}{P(C)} $$\n",
    "\n",
    "$$ P(A \\cap C) = P(A) + P(C) - P(A \\cup C)$$\n",
    "\n",
    "$$ P(A \\cup C) = P(A) + P(C) - (P(A) * P(C))$$"
   ]
  },
  {
   "cell_type": "code",
   "execution_count": 13,
   "metadata": {},
   "outputs": [
    {
     "name": "stdout",
     "output_type": "stream",
     "text": [
      "A unión C:  1.0\n",
      "A intersectado con C:  0.5454545454545454\n"
     ]
    }
   ],
   "source": [
    "AuC = pA + pC - (pA*pC)\n",
    "AnC = pA + pC - AuC\n",
    "print(\"A unión C: \" , AuC)\n",
    "print(\"A intersectado con C: \" , AnC)"
   ]
  },
  {
   "cell_type": "code",
   "execution_count": 16,
   "metadata": {},
   "outputs": [
    {
     "name": "stdout",
     "output_type": "stream",
     "text": [
      "La probabilidad de que la desviación estándar sea mayor o igual a 800 pesos \n",
      " dado que el percentil 90% sea mayor o igual a 720 es: 0.5454545454545454\n"
     ]
    }
   ],
   "source": [
    "AdadoC = AnC / pC\n",
    "print('La probabilidad de que la desviación estándar sea mayor o igual a 800 pesos \\n dado que el percentil 90% sea mayor o igual a 720 es: {}'.format(AdadoC))"
   ]
  },
  {
   "cell_type": "markdown",
   "metadata": {},
   "source": [
    "Por medio de la simulación, obtenemos que:\n",
    "    \n",
    "$$ P(A \\cap C) \\approx 0.5 $$ "
   ]
  },
  {
   "cell_type": "markdown",
   "metadata": {},
   "source": [
    "# 2"
   ]
  },
  {
   "cell_type": "markdown",
   "metadata": {},
   "source": [
    "## Parte II: Distribuciones "
   ]
  },
  {
   "cell_type": "markdown",
   "metadata": {},
   "source": [
    "Busque un conjunto de datos disponible en un repositorio público, que contenga un conjunto de datos (al menos 1000 datos) de una variable aleatoria a valores reales. Utilice el set de datos para realizar las siguientes actividades:\n",
    "\n",
    "Ejemplo de repositorio de datos climáticos: www.cr2.cl\n",
    "\n",
    "0. Indique la fuente de sus datos. \n",
    "\n",
    "\n",
    "1. (0,5 pts) Descripcion de datos:  describa sus datos estadísticamente, grafique histograma y distribución de probabilidad empírica. Mencione alguna característica particular de su set de datos. \n",
    "\n",
    "2. (1 punto) Seleccione aleatoriamente una cantidad N de sus datos y calcule 3 estadísticos muestrales, luego aumente la cantidad de datos seleccionado (N++), grafique los valores de los estadísticos muestrales en cada iteración ¿qué ocurre con los estadísticos muestrales a medida que aumenta N?. Investigue y responda en base a la ley de los grandes números.\n",
    "\n",
    "3. (1 punto) Divida su set de datos en distintos grupos (aleatoriamente) y calcule los estadísticos muestrales de cada grupo y grafique el histograma resultante. Por ejemplo: para el caso de la media, debe calcular la media para cada grupo y luego graficar el histograma del conjunto de medias. ¿los estadísticos muestrales cumplen el Teorema del Límite Central? Justifique su respuesta.\n",
    "\n",
    "4. (0,5 pts) Defina una hipótesis sobre la distribución que siguen sus datos, utilice el test Kolmogorov-Smirnov ¿Puede rechazar la hipótesis? (usando un 95% de confianza). Comente sus resultados.\n",
    "\n",
    "5. (1 punto) Calcule la incerteza de sus estadísticos muestrales utilizando bootstrap. Interprete sus resultados. \n"
   ]
  },
  {
   "cell_type": "markdown",
   "metadata": {},
   "source": [
    "## 2.0"
   ]
  },
  {
   "cell_type": "markdown",
   "metadata": {},
   "source": [
    "Los datos fueron obtenidos del UCI Machine Learning Repository <link>https://archive.ics.uci.edu/ml/datasets.php</link><br>\n",
    "El dataset que utilizaremos es el de Wine Quality <link>https://archive.ics.uci.edu/ml/datasets/Wine+Quality</link> específicamente winequality-red.csv"
   ]
  },
  {
   "cell_type": "markdown",
   "metadata": {},
   "source": [
    "## 2.1"
   ]
  },
  {
   "cell_type": "code",
   "execution_count": null,
   "metadata": {},
   "outputs": [],
   "source": [
    "vino = pd.read_csv('winequality-red.csv',delimiter=\";\")"
   ]
  },
  {
   "cell_type": "code",
   "execution_count": null,
   "metadata": {},
   "outputs": [],
   "source": [
    "vino"
   ]
  },
  {
   "cell_type": "code",
   "execution_count": null,
   "metadata": {},
   "outputs": [],
   "source": [
    "datos = vino['alcohol']\n",
    "datos.describe()"
   ]
  },
  {
   "cell_type": "code",
   "execution_count": null,
   "metadata": {},
   "outputs": [],
   "source": [
    "\n",
    "fig, ax = plt.subplots(1, 1,figsize=(15, 7), dpi=80)\n",
    "\n",
    "# Make the histogram using matplotlib, bins must be integet\n",
    "ax.hist(datos, color = 'blue',edgecolor='black', bins=(int(15/0.5)))\n",
    "\n",
    "plt.title('Histogram Alcohol Vino Tinto')\n",
    "plt.xlabel('Grados (°)'); plt.ylabel('Cantidad');\n",
    "plt.xticks(np.arange(8.4, 15, 0.2))\n",
    "\n",
    "plt.show()"
   ]
  },
  {
   "cell_type": "code",
   "execution_count": null,
   "metadata": {},
   "outputs": [],
   "source": [
    "def ecdf(data):\n",
    "    x = np.sort(data)\n",
    "    n = x.size\n",
    "    y = np.arange(1, n+1) / n\n",
    "    return(x,y)\n",
    "\n",
    "fig, ax = plt.subplots(1, 1,figsize=(6, 4), dpi=80)\n",
    "\n",
    "x,y = ecdf(datos)\n",
    "ax.bar(x,y)\n",
    "\n",
    "plt.draw()"
   ]
  },
  {
   "cell_type": "markdown",
   "metadata": {},
   "source": [
    "Vamos a analizar un dataset de vinos tintos en el cual posee 12 columnas entre la que encontramos mas interesante para analizar la cantidad de alcohol presente en estos para obtener sus estadisticas asociadas.\n",
    "Como vimos anteriormente en el histograma y ahora en la distribucion acumulada tenemos un dato extremo que nos empeora la grafica el cual se aleja por casi un grado del maximo anterior, por lo cual en el grafico acumulado posee una caida en el final."
   ]
  },
  {
   "cell_type": "markdown",
   "metadata": {},
   "source": [
    "## 2.2"
   ]
  },
  {
   "cell_type": "code",
   "execution_count": null,
   "metadata": {},
   "outputs": [],
   "source": [
    "N = 150\n",
    "aleatoria = np.random.choice(list(datos),N,replace= False)\n",
    "aleatoria"
   ]
  },
  {
   "cell_type": "code",
   "execution_count": null,
   "metadata": {},
   "outputs": [],
   "source": [
    "promedio = sum(aleatoria)/len(aleatoria)\n",
    "varianza = statistics.variance(aleatoria)\n",
    "mediana = statistics.median(aleatoria)\n",
    "print('Promedio:',promedio)\n",
    "print('Varianza:',varianza)\n",
    "print('Mediana:',mediana)"
   ]
  },
  {
   "cell_type": "code",
   "execution_count": null,
   "metadata": {},
   "outputs": [],
   "source": [
    "from ipywidgets import interact, interactive, fixed, interact_manual, IntSlider, FloatSlider, HBox\n",
    "import ipywidgets as widgets\n",
    "\n",
    "Nn = IntSlider(min=49, max=1599, step=50, value= 100) #Valor de n variable\n",
    "\n",
    "def slider(N_n):\n",
    "    \n",
    "    n = N_n # valor original 150\n",
    "    aleatoria = np.random.choice(list(datos),N_n,replace= False)\n",
    "    promedio = sum(aleatoria)/len(aleatoria)\n",
    "    varianza = statistics.variance(aleatoria)\n",
    "    mediana = statistics.median(aleatoria)\n",
    "\n",
    "    print('Promedio:',promedio)\n",
    "    print('Varianza:',varianza)\n",
    "    print('Mediana empírica:', mediana)\n",
    "    \n",
    "ip = interactive(slider,N_n=Nn)\n",
    "display(HBox(ip.children[:-1]))#Show all controls\n",
    "display(ip.children[-1])#Show the output"
   ]
  },
  {
   "cell_type": "code",
   "execution_count": null,
   "metadata": {},
   "outputs": [],
   "source": [
    "N = np.arange(99,1599,50)\n",
    "mean = [promedio]\n",
    "var = [varianza]\n",
    "med = [mediana]\n",
    "for i in range(len(N)-1):\n",
    "    aleat = np.random.choice(datos,N[i+1],replace = False)\n",
    "    mean += [sum(aleat)/len(aleat)]    \n",
    "    var += [statistics.variance(aleat)]\n",
    "    med += [statistics.median(aleat)]"
   ]
  },
  {
   "cell_type": "code",
   "execution_count": null,
   "metadata": {},
   "outputs": [],
   "source": [
    "fig, ax = plt.subplots(1,2, figsize=(15, 7))\n",
    "fig, ax1 = plt.subplots(1, figsize=(15, 7))\n",
    "ax[0].plot(N,mean)\n",
    "ax[0].set_title('Promedio')\n",
    "ax[0].set_xlabel('N')\n",
    "ax[0].set_ylabel('Media')\n",
    "ax[1].plot(N,var)\n",
    "ax[1].set_title('Varianza')\n",
    "ax[1].set_xlabel('N')\n",
    "ax[1].set_ylabel('Varianza')\n",
    "ax1.plot(N,med)\n",
    "ax1.set_title('Mediana')\n",
    "ax1.set_xlabel('N')\n",
    "ax1.set_ylabel('Mediana')"
   ]
  },
  {
   "cell_type": "markdown",
   "metadata": {},
   "source": [
    "Segun la ley de los grandes numeros podemos ver que a medida que aumenta nuestra muestra los 3 estadisticos comienzan a converger en los valores de la poblacion total. En este caso partir de las 1000 muestras vemos que los valores rondan la media y varianza de nuestra poblacion total. En el caso de la mediana es mas complicado de analizar pues esta es muy sensible a los valores extremos."
   ]
  },
  {
   "cell_type": "markdown",
   "metadata": {},
   "source": [
    "## 2.3"
   ]
  },
  {
   "cell_type": "code",
   "execution_count": null,
   "metadata": {},
   "outputs": [],
   "source": [
    "n = 1000 # numero de muestras\n",
    "promedio = []\n",
    "var = []\n",
    "med = []\n",
    "for i in range(n):\n",
    "    random = np.random.choice(datos,size = 50,replace = True) # size = elementos de la muestra\n",
    "    promedio += [sum(random)/len(random)]\n",
    "    var += [statistics.variance(random)]\n",
    "    med += [statistics.median(random)]"
   ]
  },
  {
   "cell_type": "code",
   "execution_count": null,
   "metadata": {},
   "outputs": [],
   "source": [
    "fig, ax = plt.subplots(1, 2,figsize=(15, 7), dpi=80)\n",
    "fig, ax1 = plt.subplots(1,figsize=(15, 7), dpi=80)\n",
    "ax[0].hist(promedio, color = 'blue',edgecolor='black', bins=(20))\n",
    "ax[1].hist(var, color = 'blue',edgecolor='black', bins=(20))\n",
    "ax1.hist(med, color = 'blue',edgecolor='black', bins=(15))\n",
    "ax[0].set_title('Conjunto de Promedios');\n",
    "ax[1].set_title('Conjunto de Varianza');\n",
    "ax1.set_title('Conjunto de Mediana');"
   ]
  },
  {
   "cell_type": "markdown",
   "metadata": {},
   "source": [
    "Podemos ver que estadisticos escogidos cumplen con el teorema central del limite, ya que al dividir nuestro conjunto en varios subconjuntos calculando sus estadisticos y graficandolo obtenemos que se aproximan a una distribucion normal. Mientras mayor sea la cantidad de muestras mejor tiende a ser esta aproximación.\n"
   ]
  },
  {
   "cell_type": "markdown",
   "metadata": {},
   "source": [
    "## 2.4"
   ]
  },
  {
   "cell_type": "code",
   "execution_count": null,
   "metadata": {},
   "outputs": [],
   "source": [
    "Image(\"distributions_choice.png\")"
   ]
  },
  {
   "cell_type": "markdown",
   "metadata": {},
   "source": [
    "Segun la imagen de las distribuciones vemos que nuestro histograma se acerca mas a una Lognormal, ademas de cumplir las caracteristicas de esta distribucion como ser asimetrica."
   ]
  },
  {
   "cell_type": "code",
   "execution_count": null,
   "metadata": {},
   "outputs": [],
   "source": [
    "fig, ax = plt.subplots(1, 1,figsize=(15, 7), dpi=80)\n",
    "\n",
    "ax.hist(datos, color = 'blue',edgecolor='black', bins=(int(15/0.5)))\n",
    "ax2 = ax.twinx()\n",
    "args = scipy.stats.lognorm.fit(datos)\n",
    "print(args)\n",
    "vec = np.arange(8.4, 15, 0.2)\n",
    "\n",
    "pvec = []\n",
    "for i in vec:\n",
    "    pvec.append(scipy.stats.lognorm.pdf(x=i,s=args[0],scale=args[2],loc=args[1]))\n",
    "ax2.plot(vec,pvec)\n",
    "plt.xticks(np.arange(8.4, 15, 0.2))\n",
    "plt.draw()"
   ]
  },
  {
   "cell_type": "code",
   "execution_count": null,
   "metadata": {},
   "outputs": [],
   "source": [
    "datos2 = scipy.stats.lognorm.rvs(*args,size=100)\n",
    "scipy.stats.kstest(datos, datos2)"
   ]
  },
  {
   "cell_type": "markdown",
   "metadata": {},
   "source": [
    "Al comprar la distribución de los datos a una distribución Lognormal con el test Kolmogorov-Smirnov, el test nos retorna un valor p=0.10738714842249009, si lo analizamos con un 95% de confianza NO podemos rechazar la hipótesis ya que p>0.05."
   ]
  },
  {
   "cell_type": "markdown",
   "metadata": {},
   "source": [
    "## 2.5"
   ]
  },
  {
   "cell_type": "code",
   "execution_count": null,
   "metadata": {},
   "outputs": [],
   "source": [
    "import math\n",
    "from IPython.display import display, Math\n",
    "import ipywidgets as widgets\n",
    "\n",
    "def mse(est, listest): #mean square error\n",
    "    sum = 0\n",
    "    a = 0\n",
    "    for i in listest:\n",
    "        sum += (est-i)**2\n",
    "        a +=1\n",
    "    mse_val = sum/a\n",
    "    return mse_val    \n",
    "\n",
    "b = 100\n",
    "datos = vino[\"alcohol\"]\n",
    "n = len(datos)\n",
    "\n",
    "m = statistics.mean(datos)\n",
    "md = statistics.median(datos)\n",
    "sd = statistics.stdev(datos)\n",
    "\n",
    "means = []\n",
    "medians = []\n",
    "sds = []\n",
    "\n",
    "for i in range (b):\n",
    "    bdata = np.random.choice(list(datos),size=n,replace=True)\n",
    "    means.append(bdata.mean())\n",
    "    medians.append(statistics.median(bdata))\n",
    "    sds.append(statistics.stdev(bdata))\n",
    "\n",
    "print(\"\\nValor de b: \" + str(b))\n",
    "varMA = statistics.variance(means)\n",
    "range = 1.96*math.sqrt(varMA)\n",
    "print(\"\\nVarianza medias: \" + str(varMA))\n",
    "display(Math('%0.2f \\pm %0.2f' % (m, range )))\n",
    "print(\"Error medio cuadratico de la media aritmetica : \" + str(mse(m, means)))\n",
    "    \n",
    "varMED = statistics.variance(medians)\n",
    "range = 1.96*math.sqrt(varMED)\n",
    "print(\"\\nVarianza medianas: \" + str(varMED))\n",
    "display(Math('%0.2f \\pm %0.2f' % (md, range )))\n",
    "print(\"Error medio cuadratico de las medianas : \" + str(mse(md, medians)))\n",
    "\n",
    "varSD = statistics.variance(sds)\n",
    "range = 1.96*math.sqrt(varSD)\n",
    "print(\"\\nVarianza desviaciones estandar: \" + str(varSD))\n",
    "display(Math('%0.2f \\pm %0.2f' % (sd, range )))\n",
    "print(\"Error medio cuadratico de las desviaciones estándar : \" + str(mse(sd, sds)))"
   ]
  },
  {
   "cell_type": "markdown",
   "metadata": {},
   "source": [
    "### Referencias útiles para la parte II: \n",
    "\n",
    "\n",
    "\n",
    "[1] **Ley de los grandes números:**  https://nbviewer.jupyter.org/github/CamDavidsonPilon/Probabilistic-Programming-and-Bayesian-Methods-for-Hackers/blob/master/Chapter4_TheGreatestTheoremNeverTold/Ch4_LawOfLargeNumbers_PyMC3.ipynb\n",
    "\n",
    "\n",
    "[2] Ross, https://drive.google.com/file/d/1tenWSvfAU2336m-km4vRMorKmDIQRKme/view?usp=sharing"
   ]
  },
  {
   "cell_type": "markdown",
   "metadata": {},
   "source": [
    "## Parte III: Conclusiones\n",
    "\n",
    "\n",
    "1. (0,8 pts) Presente las conclusiones de su trabajo. \n",
    "\n",
    "2. (0,2 pts) Además reflexione respecto a qué significa que los datos sean **independientes e identicamente distribuidos** y por qué se debe cumplir esta condición en los grupos seleccionados aleatoriamente en las preguntas 2 y 3 de la parte II (puede reflexionar en torno a qué pasaría si no lo fueran) \n"
   ]
  },
  {
   "cell_type": "markdown",
   "metadata": {},
   "source": [
    "Para el caso de el ejercicio 1 podemos ver que a medida que teniendo nuestra transaccion \"justa\" no lo es, pues a medida que las transacciones se van realizando comienza a aumentar la desigualdad entre la poblacion. Esto lo podemos ver con el indice de gini que a medida que se van realizando transacciones va en aumento hasta llegar al valor de 0.5. Esto se puede ver reflejado en los percentiles mas altos y mas bajos teniendo en el percentil 10 valores cercanos al 10% de la cantidad inicial y en los percentiles mas altos como el 90 mas del doble de la cantidad inicial. Entonces nuestra transaccion hace que varie mucho el dinero entre la poblacion causando un alto indice de desigualdad."
   ]
  },
  {
   "cell_type": "code",
   "execution_count": null,
   "metadata": {},
   "outputs": [],
   "source": []
  }
 ],
 "metadata": {
  "kernelspec": {
   "display_name": "Python 3 (ipykernel)",
   "language": "python",
   "name": "python3"
  },
  "language_info": {
   "codemirror_mode": {
    "name": "ipython",
    "version": 3
   },
   "file_extension": ".py",
   "mimetype": "text/x-python",
   "name": "python",
   "nbconvert_exporter": "python",
   "pygments_lexer": "ipython3",
   "version": "3.9.7"
  },
  "vscode": {
   "interpreter": {
    "hash": "8b2b7536093650248076775fca8e0cab2458067db2d0017ea968a4b893a95772"
   }
  }
 },
 "nbformat": 4,
 "nbformat_minor": 2
}
