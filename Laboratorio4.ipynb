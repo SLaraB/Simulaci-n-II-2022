{
 "cells": [
  {
   "cell_type": "markdown",
   "metadata": {},
   "source": [
    "# SIMULACIÓN | LABORATORIO 5\n"
   ]
  },
  {
   "cell_type": "markdown",
   "metadata": {},
   "source": [
    "## Boostrap o remuestreo"
   ]
  },
  {
   "cell_type": "code",
   "execution_count": 1,
   "metadata": {},
   "outputs": [],
   "source": [
    "import numpy as np\n",
    "import math\n",
    "import matplotlib.pyplot as plt\n",
    "import pandas as pd\n",
    "import seaborn as sns\n",
    "import scipy \n",
    "from IPython.display import display, Math\n",
    "import ipywidgets as widgets\n",
    "import random\n",
    "import scipy.stats as stats\n",
    "import statistics"
   ]
  },
  {
   "cell_type": "markdown",
   "metadata": {},
   "source": [
    "### Ejercicio 1\n",
    "En un estudio sobre plantaciones de coihue, se ha recopilado información sobre la altura que alcanzan dichos árboles a los 20 años de edad, en diversas zonas de la región sur austral de Chile. A partir de dichos datos, estamos interesados en calcular un intervalo de confianza para la mediana de altura que alcanza esta especie a los 20 años de edad.\n",
    "Para ello utilizaremos remuestreo o bootstrap.\n",
    "1. Analice el código y evalue el número de muestras de bootstrap para alcanzar convergencia de la varianza estimada de la mediana.\n",
    "2. Calcule el error cuadrático medio de la mediana.\n",
    "3. Escoja otro estadístico de la muestra y calcule su incerteza con la técnica de boostrap\n",
    "4. Compare y comente sus resultados."
   ]
  },
  {
   "cell_type": "code",
   "execution_count": 2,
   "metadata": {},
   "outputs": [],
   "source": [
    "datos = [12.5,11.4,18.4,10.7,9.5,11.7,15.4,12.3,18.6, 14.7, 10.7,11.6, 10.1, 8.2, 11.4,21.1, 12.1, 7.5, 12.5, 14.7, 10.3, 5.4, 9.4, 13.8, 9.6, 11.3, 14.8, 12.6]\n",
    "n=len(datos)"
   ]
  },
  {
   "cell_type": "code",
   "execution_count": 6,
   "metadata": {},
   "outputs": [
    {
     "name": "stdout",
     "output_type": "stream",
     "text": [
      "Media: 11.649999999999999\n",
      "Varianza: 0.2822755050505051\n"
     ]
    },
    {
     "data": {
      "text/plain": [
       "'Media +- Varianza:'"
      ]
     },
     "metadata": {},
     "output_type": "display_data"
    },
    {
     "data": {
      "text/latex": [
       "$\\displaystyle 11.65 \\pm 1.04$"
      ],
      "text/plain": [
       "<IPython.core.display.Math object>"
      ]
     },
     "metadata": {},
     "output_type": "display_data"
    }
   ],
   "source": [
    "\n",
    "m = statistics.median(datos)\n",
    "print (\"Media:\" , m)\n",
    "b=100\n",
    "mm = 0\n",
    "mn =[]\n",
    "for i in range(b):\n",
    "    dat = np.random.choice(list(datos),size=n,replace=True)\n",
    "    mn.append(statistics.median(dat))\n",
    "    \n",
    "var = statistics.variance(mn)\n",
    "print(\"Varianza:\" , var)\n",
    "rango = 1.96*math.sqrt(var)\n",
    "display(\"Media +- Varianza:\", Math('%0.2f \\pm %0.2f' % (m, rango )))\n",
    "\n",
    "              "
   ]
  },
  {
   "cell_type": "markdown",
   "metadata": {},
   "source": [
    "### 1.1"
   ]
  },
  {
   "cell_type": "code",
   "execution_count": 7,
   "metadata": {},
   "outputs": [],
   "source": [
    "def convergencia(n,datos):\n",
    "    b = [10,100,1000,10000,100000]\n",
    "    mn =[]\n",
    "    var = []\n",
    "    for i in range (len(b)):\n",
    "        for j in range(b[i]):\n",
    "            dat = np.random.choice(list(datos),size=n,replace=True)\n",
    "            mn.append(statistics.median(dat))\n",
    "        var += [statistics.variance(mn)]\n",
    "    return var"
   ]
  },
  {
   "cell_type": "code",
   "execution_count": 8,
   "metadata": {},
   "outputs": [],
   "source": [
    "conv=convergencia(11,datos)"
   ]
  },
  {
   "cell_type": "code",
   "execution_count": 9,
   "metadata": {},
   "outputs": [
    {
     "data": {
      "text/plain": [
       "[0.7534444444444449,\n",
       " 0.7180817347789826,\n",
       " 0.9159542807008995,\n",
       " 0.9056387575565551,\n",
       " 0.9107655234560248]"
      ]
     },
     "execution_count": 9,
     "metadata": {},
     "output_type": "execute_result"
    }
   ],
   "source": [
    "conv"
   ]
  },
  {
   "cell_type": "code",
   "execution_count": 10,
   "metadata": {
    "scrolled": true
   },
   "outputs": [
    {
     "data": {
      "text/plain": [
       "[<matplotlib.lines.Line2D at 0x20061725f10>]"
      ]
     },
     "execution_count": 10,
     "metadata": {},
     "output_type": "execute_result"
    },
    {
     "data": {
      "image/png": "[encoded data removed]",
      "text/plain": [
       "<Figure size 960x320 with 1 Axes>"
      ]
     },
     "metadata": {
      "needs_background": "light"
     },
     "output_type": "display_data"
    }
   ],
   "source": [
    "fig, ax = plt.subplots(1, 1,figsize=(12, 4), dpi=80)\n",
    "ax.plot(conv)"
   ]
  },
  {
   "cell_type": "markdown",
   "metadata": {},
   "source": [
    "Segun el grafico y los valores de convergencia podemos observar que con 100 muestras podemos llegar a la convergencia de la varianza de la mediana estimada"
   ]
  },
  {
   "cell_type": "markdown",
   "metadata": {},
   "source": [
    "### 1.2"
   ]
  },
  {
   "cell_type": "code",
   "execution_count": 11,
   "metadata": {},
   "outputs": [
    {
     "name": "stdout",
     "output_type": "stream",
     "text": [
      "11.649999999999999\n",
      "0.19477500000000014\n"
     ]
    }
   ],
   "source": [
    "m = statistics.median(datos)\n",
    "print (m)\n",
    "b=100\n",
    "mm = 0\n",
    "mse=0\n",
    "for i in range(b):\n",
    "    dat = np.random.choice(list(datos),size=n,replace=True)\n",
    "    mse += (statistics.median(dat)-m)**2\n",
    "\n",
    "mse= mse/b\n",
    "print(mse)"
   ]
  },
  {
   "cell_type": "markdown",
   "metadata": {},
   "source": [
    "### 1.3"
   ]
  },
  {
   "cell_type": "code",
   "execution_count": 14,
   "metadata": {},
   "outputs": [
    {
     "name": "stdout",
     "output_type": "stream",
     "text": [
      "Media: 12.225\n",
      "Varianza:  0.3482780045351474\n"
     ]
    },
    {
     "data": {
      "text/plain": [
       "'Media +- Varianza: '"
      ]
     },
     "metadata": {},
     "output_type": "display_data"
    },
    {
     "data": {
      "text/latex": [
       "$\\displaystyle 12.2 \\pm 1.2$"
      ],
      "text/plain": [
       "<IPython.core.display.Math object>"
      ]
     },
     "metadata": {},
     "output_type": "display_data"
    }
   ],
   "source": [
    "m = statistics.mean(datos)\n",
    "print (\"Media:\" , m)\n",
    "b=100\n",
    "mm = 0\n",
    "mn =[]\n",
    "for i in range(b):\n",
    "    dat = np.random.choice(list(datos),size=n,replace=True)\n",
    "    mn.append(statistics.mean(dat))\n",
    "var = statistics.variance(mn)\n",
    "print(\"Varianza: \" , var)\n",
    "rango = 1.96*math.sqrt(var)\n",
    "display(\"Media +- Varianza: \", Math('%0.1f \\pm %0.1f' % (m, rango)))"
   ]
  },
  {
   "cell_type": "code",
   "execution_count": 15,
   "metadata": {},
   "outputs": [],
   "source": [
    "def convergenciamed(n,datos):\n",
    "    b = [10,100,1000,10000,100000]\n",
    "    mn =[]\n",
    "    var = []\n",
    "    for i in range (len(b)):\n",
    "        for j in range(b[i]):\n",
    "            dat = np.random.choice(list(datos),size=n,replace=True)\n",
    "            mn.append(statistics.mean(dat))\n",
    "        var += [statistics.variance(mn)]\n",
    "    return var"
   ]
  },
  {
   "cell_type": "code",
   "execution_count": 16,
   "metadata": {},
   "outputs": [
    {
     "data": {
      "text/plain": [
       "[0.6416198347107441,\n",
       " 1.191700521784683,\n",
       " 1.055214037495454,\n",
       " 1.008600784228152,\n",
       " 1.0116427876936231]"
      ]
     },
     "execution_count": 16,
     "metadata": {},
     "output_type": "execute_result"
    }
   ],
   "source": [
    "conv2=convergenciamed(11,datos)\n",
    "conv2"
   ]
  },
  {
   "cell_type": "code",
   "execution_count": 17,
   "metadata": {},
   "outputs": [
    {
     "data": {
      "text/plain": [
       "[<matplotlib.lines.Line2D at 0x20061eb1490>]"
      ]
     },
     "execution_count": 17,
     "metadata": {},
     "output_type": "execute_result"
    },
    {
     "data": {
      "image/png": "[encoded data removed]",
      "text/plain": [
       "<Figure size 960x320 with 1 Axes>"
      ]
     },
     "metadata": {
      "needs_background": "light"
     },
     "output_type": "display_data"
    }
   ],
   "source": [
    "fig, ax = plt.subplots(1, 1,figsize=(12, 4), dpi=80)\n",
    "ax.plot(conv2)"
   ]
  },
  {
   "cell_type": "markdown",
   "metadata": {},
   "source": [
    "Al igual que en el caso de la mediana en el caso de la media tenemos que desde los 100 casos llegamos a una convergencia con la media estiamada"
   ]
  },
  {
   "cell_type": "markdown",
   "metadata": {},
   "source": [
    "### Ejercicio 2\n",
    "\n",
    "Suponga que los datos previamente registrados provienen de una distribución normal de parámetros $(\\mu,\\sigma)$\n",
    "\n",
    "1. Calcule los estimadores máximo verosímil de $\\hat{\\mu}$ y $\\hat{\\sigma}$\n",
    "2. Utilice boostrap paramétrico para estimar la incerteza de $\\hat{\\mu}$ y $\\hat{\\sigma}$ . Estime el número de muestras para alcanzar convergencia en cada caso.\n",
    "3. Compare y comente sus resultados.\n",
    "\n"
   ]
  },
  {
   "cell_type": "code",
   "execution_count": 20,
   "metadata": {},
   "outputs": [],
   "source": [
    "from IPython.display import Math\n",
    "datos = [12.5,11.4,18.4,10.7,9.5,11.7,15.4,12.3,18.6, 14.7, 10.7,11.6, 10.1, 8.2, 11.4,21.1, 12.1, 7.5, 12.5, 14.7, 10.3, 5.4, 9.4, 13.8, 9.6, 11.3, 14.8, 12.6]\n",
    "n=len(datos)\n",
    "m = statistics.mean(datos)"
   ]
  },
  {
   "cell_type": "code",
   "execution_count": 22,
   "metadata": {},
   "outputs": [
    {
     "name": "stdout",
     "output_type": "stream",
     "text": [
      "Media:  12.225000000000003\n",
      "Varianza:  3.3405116160766237\n"
     ]
    }
   ],
   "source": [
    "mu, sigma = stats.norm.fit(datos)\n",
    "print(\"Media: \", mu)\n",
    "print(\"Varianza: \", sigma)"
   ]
  },
  {
   "cell_type": "code",
   "execution_count": 23,
   "metadata": {},
   "outputs": [
    {
     "name": "stdout",
     "output_type": "stream",
     "text": [
      "Media:  12.225\n",
      "Varianza:  3.401810520122309\n"
     ]
    }
   ],
   "source": [
    "mu = statistics.mean(datos)\n",
    "sigma = statistics.stdev(datos)\n",
    "print(\"Media: \", mu)\n",
    "print(\"Varianza: \", sigma)"
   ]
  },
  {
   "cell_type": "markdown",
   "metadata": {},
   "source": [
    "**R:** Los estimadores de maxima verosimilitud para una distribucion normal son lo mismo que calcular la media y la desviacion estandar."
   ]
  },
  {
   "cell_type": "code",
   "execution_count": 28,
   "metadata": {},
   "outputs": [],
   "source": [
    "mu = statistics.mean(datos)\n",
    "sigma = statistics.stdev(datos)\n",
    "mu_b = []\n",
    "sigma_b = []\n",
    "b = range(1000, 25000, 1000)\n",
    "var_mu = []\n",
    "var_sigma= []\n",
    "for j in b:\n",
    "    for i in range(j):\n",
    "        #dat = np.random.choice(list(datos), size=n, replace=True)\n",
    "        dat = np.random.normal(mu, sigma, n)\n",
    "        u = statistics.mean(dat)\n",
    "        o = statistics.stdev(dat)\n",
    "        mu_b.append(u)\n",
    "        sigma_b.append(o)\n",
    "    var_mu.append(statistics.variance(mu_b))\n",
    "    var_sigma.append(statistics.variance(sigma_b))"
   ]
  },
  {
   "cell_type": "code",
   "execution_count": 31,
   "metadata": {},
   "outputs": [
    {
     "data": {
      "text/latex": [
       "$\\displaystyle 12.22 \\pm 1.26$"
      ],
      "text/plain": [
       "<IPython.core.display.Math object>"
      ]
     },
     "metadata": {},
     "output_type": "display_data"
    },
    {
     "data": {
      "image/png": "[encoded data removed]",
      "text/plain": [
       "<Figure size 432x288 with 1 Axes>"
      ]
     },
     "metadata": {
      "needs_background": "light"
     },
     "output_type": "display_data"
    }
   ],
   "source": [
    "plt.ylim([0.35, .5])\n",
    "plt.plot(var_mu)\n",
    "var = var_mu[len(var_mu)-1] \n",
    "rango = 1.96*math.sqrt(var)\n",
    "display(Math('%0.2f \\pm %0.2f' % (mu, rango)))"
   ]
  },
  {
   "cell_type": "code",
   "execution_count": 32,
   "metadata": {},
   "outputs": [
    {
     "data": {
      "text/latex": [
       "$\\displaystyle 3.40 \\pm 0.90$"
      ],
      "text/plain": [
       "<IPython.core.display.Math object>"
      ]
     },
     "metadata": {},
     "output_type": "display_data"
    },
    {
     "data": {
      "image/png": "[encoded data removed]",
      "text/plain": [
       "<Figure size 432x288 with 1 Axes>"
      ]
     },
     "metadata": {
      "needs_background": "light"
     },
     "output_type": "display_data"
    }
   ],
   "source": [
    "plt.ylim([0.2, .25])\n",
    "plt.plot(var_sigma)\n",
    "var = var_sigma[len(var_sigma)-1] \n",
    "rango = 1.96*math.sqrt(var)\n",
    "display(Math('%0.2f \\pm %0.2f' % (sigma, rango)))"
   ]
  },
  {
   "cell_type": "code",
   "execution_count": null,
   "metadata": {},
   "outputs": [],
   "source": []
  }
 ],
 "metadata": {
  "kernelspec": {
   "display_name": "Python 3 (ipykernel)",
   "language": "python",
   "name": "python3"
  },
  "language_info": {
   "codemirror_mode": {
    "name": "ipython",
    "version": 3
   },
   "file_extension": ".py",
   "mimetype": "text/x-python",
   "name": "python",
   "nbconvert_exporter": "python",
   "pygments_lexer": "ipython3",
   "version": "3.9.7"
  }
 },
 "nbformat": 4,
 "nbformat_minor": 2
}
