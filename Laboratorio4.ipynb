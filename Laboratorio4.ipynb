{
 "cells": [
  {
   "cell_type": "markdown",
   "metadata": {},
   "source": [
    "# SIMULACIÓN | LABORATORIO 5\n"
   ]
  },
  {
   "cell_type": "markdown",
   "metadata": {},
   "source": [
    "## Boostrap o remuestreo"
   ]
  },
  {
   "cell_type": "code",
   "execution_count": 1,
   "metadata": {},
   "outputs": [],
   "source": [
    "import numpy as np\n",
    "import math\n",
    "import matplotlib.pyplot as plt\n",
    "import pandas as pd\n",
    "import seaborn as sns\n",
    "import scipy \n",
    "from IPython.display import display, Math\n",
    "import ipywidgets as widgets\n",
    "import random\n",
    "import scipy.stats as stats\n",
    "import statistics"
   ]
  },
  {
   "cell_type": "markdown",
   "metadata": {},
   "source": [
    "### Ejercicio 1\n",
    "En un estudio sobre plantaciones de coihue, se ha recopilado información sobre la altura que alcanzan dichos árboles a los 20 años de edad, en diversas zonas de la región sur austral de Chile. A partir de dichos datos, estamos interesados en calcular un intervalo de confianza para la mediana de altura que alcanza esta especie a los 20 años de edad.\n",
    "Para ello utilizaremos remuestreo o bootstrap.\n",
    "1. Analice el código y evalue el número de muestras de bootstrap para alcanzar convergencia de la varianza estimada de la mediana.\n",
    "2. Calcule el error cuadrático medio de la mediana.\n",
    "3. Escoja otro estadístico de la muestra y calcule su incerteza con la técnica de boostrap\n",
    "4. Compare y comente sus resultados."
   ]
  },
  {
   "cell_type": "code",
   "execution_count": 2,
   "metadata": {},
   "outputs": [],
   "source": [
    "datos = [12.5,11.4,18.4,10.7,9.5,11.7,15.4,12.3,18.6, 14.7, 10.7,11.6, 10.1, 8.2, 11.4,21.1, 12.1, 7.5, 12.5, 14.7, 10.3, 5.4, 9.4, 13.8, 9.6, 11.3, 14.8, 12.6]\n",
    "n=len(datos)"
   ]
  },
  {
   "cell_type": "code",
   "execution_count": 14,
   "metadata": {},
   "outputs": [
    {
     "name": "stdout",
     "output_type": "stream",
     "text": [
      "Media: 11.649999999999999\n",
      "Varianza: 0.3330734848484847\n"
     ]
    },
    {
     "data": {
      "text/latex": [
       "$\\displaystyle 11.65 \\pm 1.13$"
      ],
      "text/plain": [
       "<IPython.core.display.Math object>"
      ]
     },
     "metadata": {},
     "output_type": "display_data"
    }
   ],
   "source": [
    "\n",
    "m = statistics.median(datos)\n",
    "print (\"Media:\" , m)\n",
    "b=100\n",
    "mm = 0\n",
    "mn =[]\n",
    "for i in range(b):\n",
    "    dat = np.random.choice(list(datos),size=n,replace=True)\n",
    "    mn.append(statistics.median(dat))\n",
    "    \n",
    "var = statistics.variance(mn)\n",
    "print(\"Varianza:\" , var)\n",
    "rango = 1.96*math.sqrt(var)\n",
    "display(Math('%0.2f \\pm %0.2f' % (m, rango )))\n",
    "\n",
    "              "
   ]
  },
  {
   "cell_type": "markdown",
   "metadata": {},
   "source": [
    "### 1.1"
   ]
  },
  {
   "cell_type": "code",
   "execution_count": 4,
   "metadata": {},
   "outputs": [],
   "source": [
    "def convergencia(n,datos):\n",
    "    b = [10,100,1000,10000,100000]\n",
    "    mn =[]\n",
    "    var = []\n",
    "    for i in range (len(b)):\n",
    "        for j in range(b[i]):\n",
    "            dat = np.random.choice(list(datos),size=n,replace=True)\n",
    "            mn.append(statistics.median(dat))\n",
    "        var += [statistics.variance(mn)]\n",
    "    return var"
   ]
  },
  {
   "cell_type": "code",
   "execution_count": 5,
   "metadata": {},
   "outputs": [],
   "source": [
    "conv=convergencia(11,datos)"
   ]
  },
  {
   "cell_type": "code",
   "execution_count": 6,
   "metadata": {},
   "outputs": [
    {
     "data": {
      "text/plain": [
       "[0.5862222222222226,\n",
       " 0.9149699749791494,\n",
       " 0.9214385900779049,\n",
       " 0.9429717539131716,\n",
       " 0.9212032738121619]"
      ]
     },
     "execution_count": 6,
     "metadata": {},
     "output_type": "execute_result"
    }
   ],
   "source": [
    "conv"
   ]
  },
  {
   "cell_type": "code",
   "execution_count": 7,
   "metadata": {
    "scrolled": true
   },
   "outputs": [
    {
     "data": {
      "text/plain": [
       "[<matplotlib.lines.Line2D at 0x28954a18d60>]"
      ]
     },
     "execution_count": 7,
     "metadata": {},
     "output_type": "execute_result"
    },
    {
     "data": {
      "image/png": "[encoded data removed]",
      "text/plain": [
       "<Figure size 960x320 with 1 Axes>"
      ]
     },
     "metadata": {
      "needs_background": "light"
     },
     "output_type": "display_data"
    }
   ],
   "source": [
    "fig, ax = plt.subplots(1, 1,figsize=(12, 4), dpi=80)\n",
    "ax.plot(conv)"
   ]
  },
  {
   "cell_type": "markdown",
   "metadata": {},
   "source": [
    "Segun el grafico y los valores de convergencia podemos observar que con 100 muestras podemos llegar a la convergencia de la varianza de la mediana estimada"
   ]
  },
  {
   "cell_type": "markdown",
   "metadata": {},
   "source": [
    "### 1.2"
   ]
  },
  {
   "cell_type": "code",
   "execution_count": 8,
   "metadata": {},
   "outputs": [
    {
     "name": "stdout",
     "output_type": "stream",
     "text": [
      "11.649999999999999\n",
      "0.2837250000000004\n"
     ]
    }
   ],
   "source": [
    "m = statistics.median(datos)\n",
    "print (m)\n",
    "b=100\n",
    "mm = 0\n",
    "mse=0\n",
    "for i in range(b):\n",
    "    dat = np.random.choice(list(datos),size=n,replace=True)\n",
    "    mse += (statistics.median(dat)-m)**2\n",
    "\n",
    "mse= mse/b\n",
    "print(mse)"
   ]
  },
  {
   "cell_type": "markdown",
   "metadata": {},
   "source": [
    "### 1.3"
   ]
  },
  {
   "cell_type": "code",
   "execution_count": 9,
   "metadata": {},
   "outputs": [
    {
     "name": "stdout",
     "output_type": "stream",
     "text": [
      "12.225\n",
      "0.3996684137291281\n"
     ]
    },
    {
     "data": {
      "text/latex": [
       "$\\displaystyle 12.2 \\pm 1.2$"
      ],
      "text/plain": [
       "<IPython.core.display.Math object>"
      ]
     },
     "metadata": {},
     "output_type": "display_data"
    }
   ],
   "source": [
    "m = statistics.mean(datos)\n",
    "print (m)\n",
    "b=100\n",
    "mm = 0\n",
    "mn =[]\n",
    "for i in range(b):\n",
    "    dat = np.random.choice(list(datos),size=n,replace=True)\n",
    "    mn.append(statistics.mean(dat))\n",
    "var = statistics.variance(mn)\n",
    "print(var)\n",
    "rango = 1.96*math.sqrt(var)\n",
    "display(Math('%0.1f \\pm %0.1f' % (m, rango)))"
   ]
  },
  {
   "cell_type": "code",
   "execution_count": 10,
   "metadata": {},
   "outputs": [],
   "source": [
    "def convergenciamed(n,datos):\n",
    "    b = [10,100,1000,10000,100000]\n",
    "    mn =[]\n",
    "    var = []\n",
    "    for i in range (len(b)):\n",
    "        for j in range(b[i]):\n",
    "            dat = np.random.choice(list(datos),size=n,replace=True)\n",
    "            mn.append(statistics.mean(dat))\n",
    "        var += [statistics.variance(mn)]\n",
    "    return var"
   ]
  },
  {
   "cell_type": "code",
   "execution_count": 11,
   "metadata": {},
   "outputs": [
    {
     "data": {
      "text/plain": [
       "[1.3152800734618917,\n",
       " 0.9286155542842175,\n",
       " 1.0426602903569049,\n",
       " 1.0493072900362885,\n",
       " 1.0123420962918115]"
      ]
     },
     "execution_count": 11,
     "metadata": {},
     "output_type": "execute_result"
    }
   ],
   "source": [
    "conv2=convergenciamed(11,datos)\n",
    "conv2"
   ]
  },
  {
   "cell_type": "code",
   "execution_count": 12,
   "metadata": {},
   "outputs": [
    {
     "data": {
      "text/plain": [
       "[<matplotlib.lines.Line2D at 0x289551a7130>]"
      ]
     },
     "execution_count": 12,
     "metadata": {},
     "output_type": "execute_result"
    },
    {
     "data": {
      "image/png": "[encoded data removed]",
      "text/plain": [
       "<Figure size 960x320 with 1 Axes>"
      ]
     },
     "metadata": {
      "needs_background": "light"
     },
     "output_type": "display_data"
    }
   ],
   "source": [
    "fig, ax = plt.subplots(1, 1,figsize=(12, 4), dpi=80)\n",
    "ax.plot(conv2)"
   ]
  },
  {
   "cell_type": "markdown",
   "metadata": {},
   "source": [
    "Al igual que en el caso de la mediana en el caso de la media tenemos que desde los 100 casos llegamos a una convergencia con la media estiamada"
   ]
  },
  {
   "cell_type": "markdown",
   "metadata": {},
   "source": [
    "### Ejercicio 2\n",
    "\n",
    "Suponga que los datos previamente registrados provienen de una distribución normal de parámetros $(\\mu,\\sigma)$\n",
    "\n",
    "1. Calcule los estimadores máximo verosímil de $\\hat{\\mu}$ y $\\hat{\\sigma}$\n",
    "2. Utilice boostrap paramétrico para estimar la incerteza de $\\hat{\\mu}$ y $\\hat{\\sigma}$ . Estime el número de muestras para alcanzar convergencia en cada caso.\n",
    "3. Compare y comente sus resultados.\n",
    "\n"
   ]
  },
  {
   "cell_type": "code",
   "execution_count": null,
   "metadata": {},
   "outputs": [],
   "source": []
  },
  {
   "cell_type": "code",
   "execution_count": null,
   "metadata": {},
   "outputs": [],
   "source": []
  },
  {
   "cell_type": "code",
   "execution_count": null,
   "metadata": {},
   "outputs": [],
   "source": []
  }
 ],
 "metadata": {
  "kernelspec": {
   "display_name": "Python 3 (ipykernel)",
   "language": "python",
   "name": "python3"
  },
  "language_info": {
   "codemirror_mode": {
    "name": "ipython",
    "version": 3
   },
   "file_extension": ".py",
   "mimetype": "text/x-python",
   "name": "python",
   "nbconvert_exporter": "python",
   "pygments_lexer": "ipython3",
   "version": "3.9.7"
  }
 },
 "nbformat": 4,
 "nbformat_minor": 2
}
